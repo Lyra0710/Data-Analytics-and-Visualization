{
 "cells": [
  {
   "attachments": {},
   "cell_type": "markdown",
   "metadata": {},
   "source": [
    "# Lab 4 tasks\n"
   ]
  },
  {
   "cell_type": "code",
   "execution_count": 1,
   "metadata": {},
   "outputs": [],
   "source": [
    "import numpy as np"
   ]
  },
  {
   "attachments": {},
   "cell_type": "markdown",
   "metadata": {},
   "source": [
    "## Create a nd array of size 3 x 3 x 3 and perform subtraction operation as per x axis, y axis and z axis."
   ]
  },
  {
   "cell_type": "code",
   "execution_count": 29,
   "metadata": {},
   "outputs": [
    {
     "name": "stdout",
     "output_type": "stream",
     "text": [
      "The original array is:\n",
      " [[[  1   2   3]\n",
      "  [  4   5   6]\n",
      "  [  7   8  -9]]\n",
      "\n",
      " [[ 10  11  12]\n",
      "  [ 13  14  15]\n",
      "  [ 16 -17  18]]\n",
      "\n",
      " [[-19  20  21]\n",
      "  [ 22  23  24]\n",
      "  [ 24  25  26]]]\n",
      "\n",
      "The difference along the x-axis is:\n",
      " [[[  9   9   9]\n",
      "  [  9   9   9]\n",
      "  [  9 -25  27]]\n",
      "\n",
      " [[-29   9   9]\n",
      "  [  9   9   9]\n",
      "  [  8  42   8]]]\n",
      "\n",
      "The difference along the y-axis is:\n",
      " [[[  3   3   3]\n",
      "  [  3   3 -15]]\n",
      "\n",
      " [[  3   3   3]\n",
      "  [  3 -31   3]]\n",
      "\n",
      " [[ 41   3   3]\n",
      "  [  2   2   2]]]\n",
      "\n",
      "The difference along the z-axis is:\n",
      " [[[  1   1]\n",
      "  [  1   1]\n",
      "  [  1 -17]]\n",
      "\n",
      " [[  1   1]\n",
      "  [  1   1]\n",
      "  [-33  35]]\n",
      "\n",
      " [[ 39   1]\n",
      "  [  1   1]\n",
      "  [  1   1]]]\n"
     ]
    }
   ],
   "source": [
    "array = np.array([[[1,2,3],\n",
    "[4,5,6],\n",
    "[7,8, -9]],\n",
    "[[10,11,12],\n",
    "[13,14,15],\n",
    "[16,-17,18]],\n",
    "[[-19,20,21],\n",
    "[22,23,24],\n",
    "[24,25,26]]])\n",
    "\n",
    "x_diff = np.diff(array, axis=0)\n",
    "y_diff = np.diff(array, axis=1)\n",
    "z_diff = np.diff(array, axis=2)\n",
    "\n",
    "print(f\"The original array is:\\n {array}\\n\")\n",
    "print(f\"The difference along the x-axis is:\\n {x_diff}\\n\")\n",
    "print(f\"The difference along the y-axis is:\\n {y_diff}\\n\")\n",
    "print(f\"The difference along the z-axis is:\\n {z_diff}\")"
   ]
  },
  {
   "attachments": {},
   "cell_type": "markdown",
   "metadata": {},
   "source": [
    "## 2. Demonstrate the following on the above created nd array:"
   ]
  },
  {
   "attachments": {},
   "cell_type": "markdown",
   "metadata": {},
   "source": [
    "### basic indexing"
   ]
  },
  {
   "cell_type": "code",
   "execution_count": 3,
   "metadata": {},
   "outputs": [
    {
     "name": "stdout",
     "output_type": "stream",
     "text": [
      "[[[ 0  1  2]\n",
      "  [ 3  4  5]\n",
      "  [ 6  7  8]]\n",
      "\n",
      " [[ 9 10 11]\n",
      "  [12 13 14]\n",
      "  [15 16 17]]\n",
      "\n",
      " [[18 19 20]\n",
      "  [21 22 23]\n",
      "  [24 25 26]]]\n"
     ]
    }
   ],
   "source": [
    "new_arr = array.shape\n",
    "\n",
    "new_arr = np.arange(27).reshape(new_arr)\n",
    "print(new_arr)"
   ]
  },
  {
   "cell_type": "code",
   "execution_count": 4,
   "metadata": {},
   "outputs": [
    {
     "data": {
      "text/plain": [
       "array([ 16, -17,  18])"
      ]
     },
     "execution_count": 4,
     "metadata": {},
     "output_type": "execute_result"
    }
   ],
   "source": [
    "array[1, -1]"
   ]
  },
  {
   "attachments": {},
   "cell_type": "markdown",
   "metadata": {},
   "source": [
    "### slicing"
   ]
  },
  {
   "cell_type": "code",
   "execution_count": 5,
   "metadata": {},
   "outputs": [
    {
     "name": "stdout",
     "output_type": "stream",
     "text": [
      "[[[ 10  11  12]\n",
      "  [ 13  14  15]\n",
      "  [ 16 -17  18]]]\n"
     ]
    }
   ],
   "source": [
    "print(array[1:2:1])"
   ]
  },
  {
   "cell_type": "code",
   "execution_count": 6,
   "metadata": {},
   "outputs": [
    {
     "name": "stdout",
     "output_type": "stream",
     "text": [
      "[[[ 10  11  12]\n",
      "  [ 13  14  15]\n",
      "  [ 16 -17  18]]\n",
      "\n",
      " [[-19  20  21]\n",
      "  [ 22  23  24]\n",
      "  [ 24  25  26]]]\n"
     ]
    }
   ],
   "source": [
    "print(array[1:])"
   ]
  },
  {
   "attachments": {},
   "cell_type": "markdown",
   "metadata": {},
   "source": [
    "### boolean indexing"
   ]
  },
  {
   "cell_type": "code",
   "execution_count": 7,
   "metadata": {},
   "outputs": [
    {
     "data": {
      "text/plain": [
       "array([  1,   2,   3,   4,   5,   6,   7,   8,  -9,  10,  11,  12,  13,\n",
       "        14,  15,  16, -17,  18, -19,  20,  21,  22,  23,  24,  24,  25,\n",
       "        26])"
      ]
     },
     "execution_count": 7,
     "metadata": {},
     "output_type": "execute_result"
    }
   ],
   "source": [
    "# select all entries from an array which are not NaN:\n",
    "new_array = np.array(array)\n",
    "new_array[~np.isnan(new_array)]"
   ]
  },
  {
   "cell_type": "code",
   "execution_count": 8,
   "metadata": {},
   "outputs": [
    {
     "data": {
      "text/plain": [
       "array([[[ 1,  2,  3],\n",
       "        [ 4,  5,  6],\n",
       "        [ 7,  8, 11]],\n",
       "\n",
       "       [[10, 11, 12],\n",
       "        [13, 14, 15],\n",
       "        [16,  3, 18]],\n",
       "\n",
       "       [[ 1, 20, 21],\n",
       "        [22, 23, 24],\n",
       "        [24, 25, 26]]])"
      ]
     },
     "execution_count": 8,
     "metadata": {},
     "output_type": "execute_result"
    }
   ],
   "source": [
    "# add a constant to all negative elements:\n",
    "new_array = np.array(array)\n",
    "new_array[new_array < 0] += 20\n",
    "new_array"
   ]
  },
  {
   "attachments": {},
   "cell_type": "markdown",
   "metadata": {},
   "source": [
    "### fancy indexing"
   ]
  },
  {
   "cell_type": "code",
   "execution_count": 9,
   "metadata": {},
   "outputs": [
    {
     "name": "stdout",
     "output_type": "stream",
     "text": [
      "The original array is:\n",
      " [[[  1   2   3]\n",
      "  [  4   5   6]\n",
      "  [  7   8  -9]]\n",
      "\n",
      " [[ 10  11  12]\n",
      "  [ 13  14  15]\n",
      "  [ 16 -17  18]]\n",
      "\n",
      " [[-19  20  21]\n",
      "  [ 22  23  24]\n",
      "  [ 24  25  26]]]\n",
      "The resultant array is:\n",
      " [[[  1   2   3]\n",
      "  [  7   8  -9]\n",
      "  [  4   5   6]]\n",
      "\n",
      " [[ 10  11  12]\n",
      "  [ 16 -17  18]\n",
      "  [ 13  14  15]]\n",
      "\n",
      " [[-19  20  21]\n",
      "  [ 24  25  26]\n",
      "  [ 22  23  24]]]\n"
     ]
    }
   ],
   "source": [
    "import numpy as np \n",
    "indices = np.array([0,2,1])\n",
    "result = array[:, indices]\n",
    "print(f\"The original array is:\\n {array}\")\n",
    "print(f\"The resultant array is:\\n {result}\")"
   ]
  },
  {
   "cell_type": "code",
   "execution_count": 10,
   "metadata": {},
   "outputs": [
    {
     "name": "stdout",
     "output_type": "stream",
     "text": [
      "Original array:\n",
      " [[[  1   2   3]\n",
      "  [  4   5   6]\n",
      "  [  7   8  -9]]\n",
      "\n",
      " [[ 10  11  12]\n",
      "  [ 13  14  15]\n",
      "  [ 16 -17  18]]\n",
      "\n",
      " [[-19  20  21]\n",
      "  [ 22  23  24]\n",
      "  [ 24  25  26]]]\n",
      "Index array:\n",
      " [[2 1]\n",
      " [1 0]\n",
      " [1 1]]\n",
      "Resulting array:\n",
      " [[ 20  23  25]\n",
      " [ 10  13  16]\n",
      " [ 11  14 -17]]\n"
     ]
    }
   ],
   "source": [
    "import numpy as np\n",
    "\n",
    "# create an index array of shape (3, 2) with random values\n",
    "indices = np.random.randint(0, 3, size=(3, 2))\n",
    "\n",
    "# use the index array to select elements from the original array\n",
    "result = array[indices[:, 0], :, indices[:, 1]]\n",
    "\n",
    "# print the original and resulting arrays\n",
    "print(\"Original array:\\n\", array)\n",
    "print(\"Index array:\\n\", indices)\n",
    "print(\"Resulting array:\\n\", result)\n"
   ]
  },
  {
   "attachments": {},
   "cell_type": "markdown",
   "metadata": {},
   "source": [
    "## 3. Demonstrate the use of the following universal functions"
   ]
  },
  {
   "attachments": {},
   "cell_type": "markdown",
   "metadata": {},
   "source": [
    "### Trigonometric functions"
   ]
  },
  {
   "cell_type": "code",
   "execution_count": 11,
   "metadata": {},
   "outputs": [
    {
     "name": "stdout",
     "output_type": "stream",
     "text": [
      "Sine of angles:\n",
      "[0.00000000e+00 5.00000000e-01 6.42787610e-01 8.66025404e-01\n",
      " 1.00000000e+00 8.66025404e-01 1.22464680e-16]\n"
     ]
    }
   ],
   "source": [
    "import numpy as np\n",
    "angles = np.array([0,30,40,60,90,120,180])\n",
    "radians = np.deg2rad(angles)\n",
    "print('Sine of angles:') # Sine\n",
    "sine_value = np.sin(radians)\n",
    "print(np.sin(radians))"
   ]
  },
  {
   "cell_type": "code",
   "execution_count": 12,
   "metadata": {},
   "outputs": [
    {
     "name": "stdout",
     "output_type": "stream",
     "text": [
      "Inverse Sine:\n",
      "[0.0000000e+00 3.0000000e+01 4.0000000e+01 6.0000000e+01 9.0000000e+01\n",
      " 6.0000000e+01 7.0167093e-15]\n"
     ]
    }
   ],
   "source": [
    "print('Inverse Sine:') # Inverse sine\n",
    "print(np.rad2deg(np.arcsin(sine_value)))"
   ]
  },
  {
   "cell_type": "code",
   "execution_count": 13,
   "metadata": {},
   "outputs": [
    {
     "name": "stdout",
     "output_type": "stream",
     "text": [
      "Sine hyperbolic of angles:\n",
      "[ 0.          0.54785347  0.75623999  1.24936705  2.3012989   3.99869134\n",
      " 11.54873936]\n"
     ]
    }
   ],
   "source": [
    "print('Sine hyperbolic of angles:') #Hyperbolic\n",
    "sineh_value = np.sinh(radians)\n",
    "print(np.sinh(radians))\n"
   ]
  },
  {
   "attachments": {},
   "cell_type": "markdown",
   "metadata": {},
   "source": [
    "### Statistical Functions"
   ]
  },
  {
   "cell_type": "code",
   "execution_count": 14,
   "metadata": {},
   "outputs": [
    {
     "name": "stdout",
     "output_type": "stream",
     "text": [
      "[29 15 33  2 78 34 62 98 36 32]\n"
     ]
    }
   ],
   "source": [
    "import random\n",
    "random_array = np.array(random.sample(range(0, 101), 10))\n",
    "\n",
    "print(random_array)\n"
   ]
  },
  {
   "attachments": {},
   "cell_type": "markdown",
   "metadata": {},
   "source": [
    "##### Min and Max"
   ]
  },
  {
   "cell_type": "code",
   "execution_count": 15,
   "metadata": {},
   "outputs": [
    {
     "name": "stdout",
     "output_type": "stream",
     "text": [
      "The minimum element in the array is: 2, and the maximum element is: 98\n"
     ]
    }
   ],
   "source": [
    "print(f\"The minimum element in the array is: {np.amin(random_array)}, and the maximum element is: {np.amax(random_array)}\")"
   ]
  },
  {
   "attachments": {},
   "cell_type": "markdown",
   "metadata": {},
   "source": [
    "##### Standard deviation (how spread out the values are from the mean)"
   ]
  },
  {
   "cell_type": "code",
   "execution_count": 16,
   "metadata": {},
   "outputs": [
    {
     "name": "stdout",
     "output_type": "stream",
     "text": [
      "The Standard deviation of the array is: 27.587859648765797\n"
     ]
    }
   ],
   "source": [
    "print(f\"The Standard deviation of the array is: {np.std(random_array)}\")"
   ]
  },
  {
   "attachments": {},
   "cell_type": "markdown",
   "metadata": {},
   "source": [
    "### Bit-Twiddling Functions"
   ]
  },
  {
   "cell_type": "code",
   "execution_count": 17,
   "metadata": {},
   "outputs": [
    {
     "name": "stdout",
     "output_type": "stream",
     "text": [
      "[12 10  6  2 18  0 14 16  8  4] [ 7 13  5 11 21 19  9 15  3  1]\n"
     ]
    }
   ],
   "source": [
    "import numpy as np\n",
    "import random\n",
    "\n",
    "a1 = np.array(random.sample(range(0,20,2),10))\n",
    "a2 = np.array(random.sample(range(1,22,2),10))\n",
    "\n",
    "print(a1,a2)"
   ]
  },
  {
   "attachments": {},
   "cell_type": "markdown",
   "metadata": {},
   "source": [
    "##### bitwise xor"
   ]
  },
  {
   "cell_type": "code",
   "execution_count": 18,
   "metadata": {},
   "outputs": [
    {
     "name": "stdout",
     "output_type": "stream",
     "text": [
      "The bitwise xor of a1 and a2 is: [11  7  3  9  7 19  7 31 11  5]\n"
     ]
    }
   ],
   "source": [
    "print(f\"The bitwise xor of a1 and a2 is: {np.bitwise_xor(a1,a2)}\")"
   ]
  },
  {
   "attachments": {},
   "cell_type": "markdown",
   "metadata": {},
   "source": [
    "##### Right shift"
   ]
  },
  {
   "cell_type": "code",
   "execution_count": 19,
   "metadata": {},
   "outputs": [
    {
     "name": "stdout",
     "output_type": "stream",
     "text": [
      "The right shift of a1 and a2 is: [0 0 0 0 0 0 0 0 1 2]\n"
     ]
    }
   ],
   "source": [
    "print(f\"The right shift of a1 and a2 is: {np.right_shift(a1,a2)}\")"
   ]
  },
  {
   "attachments": {},
   "cell_type": "markdown",
   "metadata": {},
   "source": [
    "## 4. Download the dataset of your choice and demonstrate the following operations on it: "
   ]
  },
  {
   "attachments": {},
   "cell_type": "markdown",
   "metadata": {},
   "source": [
    "#### 1. Reading csv as an array"
   ]
  },
  {
   "cell_type": "code",
   "execution_count": 20,
   "metadata": {},
   "outputs": [
    {
     "name": "stdout",
     "output_type": "stream",
     "text": [
      "[[ nan  0.  12.8  5.   4.7  nan]\n",
      " [ nan 10.9 10.6  2.8  4.5  nan]\n",
      " [ nan  0.8 11.7  7.2  2.3  nan]\n",
      " ...\n",
      " [ nan  0.   7.2  0.6  2.6  nan]\n",
      " [ nan  0.   5.6 -1.   3.4  nan]\n",
      " [ nan  0.   5.6 -2.1  3.5  nan]]\n"
     ]
    }
   ],
   "source": [
    "import pandas as pd\n",
    "import csv \n",
    "\n",
    "# df = pd.read_csv(\"C:\\\\Users\\\\Ananya\\\\OneDrive\\\\Projects and Labs\\\\DAV Lab\\\\Lab4\\\\archive\\\\seattle-weather.csv\")\n",
    "weather = np.genfromtxt(\"seattle-weather.csv\", delimiter=\",\", skip_header=1)\n",
    "print(weather)\n"
   ]
  },
  {
   "attachments": {},
   "cell_type": "markdown",
   "metadata": {},
   "source": [
    "#### 2. Performing nd operations"
   ]
  },
  {
   "cell_type": "code",
   "execution_count": 21,
   "metadata": {},
   "outputs": [
    {
     "name": "stdout",
     "output_type": "stream",
     "text": [
      "(1461, 6)\n",
      "(6, 1461)\n"
     ]
    }
   ],
   "source": [
    "# Reshaping\n",
    "print(weather.shape)\n",
    "new_a = weather.reshape(6, 1461)\n",
    "print(new_a.shape)"
   ]
  },
  {
   "cell_type": "code",
   "execution_count": 22,
   "metadata": {},
   "outputs": [
    {
     "data": {
      "text/plain": [
       "array([ nan,  0. , 12.8, ..., -2.1,  3.5,  nan])"
      ]
     },
     "execution_count": 22,
     "metadata": {},
     "output_type": "execute_result"
    }
   ],
   "source": [
    "# Ravel - turn an array into one dimensional representation\n",
    "new_a.ravel()\n"
   ]
  },
  {
   "cell_type": "code",
   "execution_count": 23,
   "metadata": {},
   "outputs": [
    {
     "data": {
      "text/plain": [
       "array([[ nan, 10.6,  nan,  5. ,  nan,  7.8],\n",
       "       [ 0. ,  2.9,  0. ,  1.7,  0. ,  3.7],\n",
       "       [12.8,  nan, 20.6,  nan, 23.3,  nan],\n",
       "       ...,\n",
       "       [ nan,  3.3,  nan, 13.9,  nan, -2.1],\n",
       "       [ 0. ,  3.1,  0.5,  1.9,  0. ,  3.5],\n",
       "       [22.2,  nan,  8.3,  nan, 18.3,  nan]])"
      ]
     },
     "execution_count": 23,
     "metadata": {},
     "output_type": "execute_result"
    }
   ],
   "source": [
    "# Transpose\n",
    "new_a.transpose()"
   ]
  },
  {
   "cell_type": "code",
   "execution_count": 24,
   "metadata": {},
   "outputs": [
    {
     "name": "stdout",
     "output_type": "stream",
     "text": [
      "(1461, 6) (100, 6)\n"
     ]
    },
    {
     "data": {
      "text/plain": [
       "(1561, 6)"
      ]
     },
     "execution_count": 24,
     "metadata": {},
     "output_type": "execute_result"
    }
   ],
   "source": [
    "# vstack - to combine two datasets and display the shape of the result\n",
    "dataset = np.genfromtxt(\"cleaned_dataset.csv\", delimiter=\",\", skip_header=1)\n",
    "new = dataset.reshape(100,6)\n",
    "\n",
    "print(weather.shape, new.shape)\n",
    "stack = np.vstack((weather, new))\n",
    "stack.shape\n",
    "\n"
   ]
  },
  {
   "cell_type": "code",
   "execution_count": 25,
   "metadata": {},
   "outputs": [
    {
     "data": {
      "text/plain": [
       "array([[            nan,  0.00000000e+00,  1.28000000e+01,\n",
       "         5.00000000e+00,  4.70000000e+00,             nan],\n",
       "       [            nan,  1.09000000e+01,  1.06000000e+01,\n",
       "         2.80000000e+00,  4.50000000e+00,             nan],\n",
       "       [            nan,  8.00000000e-01,  1.17000000e+01,\n",
       "         7.20000000e+00,  2.30000000e+00,             nan],\n",
       "       ...,\n",
       "       [-6.20200000e+00,  0.00000000e+00,  6.53000000e-02,\n",
       "         1.29008000e+02,  9.73000000e-01,             nan],\n",
       "       [ 4.90000000e+01,  1.83000000e-01,  5.76888000e+05,\n",
       "         9.57000000e-01,  9.26884753e-02,  3.00000000e+00],\n",
       "       [-7.76750000e+00,  1.00000000e+00,  6.89000000e-02,\n",
       "         1.06714000e+02,  9.30000000e-01,             nan]])"
      ]
     },
     "execution_count": 25,
     "metadata": {},
     "output_type": "execute_result"
    }
   ],
   "source": [
    "# Concatenate - to concatenate two arrays along an axis\n",
    "np.concatenate((weather, new), axis=0)\n"
   ]
  },
  {
   "attachments": {},
   "cell_type": "markdown",
   "metadata": {},
   "source": [
    "## 5. Perform file input and output operations on nd array using save, load, savetxt and loadtxt methods.\n"
   ]
  },
  {
   "cell_type": "code",
   "execution_count": 26,
   "metadata": {},
   "outputs": [
    {
     "data": {
      "text/plain": [
       "array([[[  1,   2,   3],\n",
       "        [  4,   5,   6],\n",
       "        [  7,   8,  -9]],\n",
       "\n",
       "       [[ 10,  11,  12],\n",
       "        [ 13,  14,  15],\n",
       "        [ 16, -17,  18]],\n",
       "\n",
       "       [[-19,  20,  21],\n",
       "        [ 22,  23,  24],\n",
       "        [ 24,  25,  26]]])"
      ]
     },
     "execution_count": 26,
     "metadata": {},
     "output_type": "execute_result"
    }
   ],
   "source": [
    "array"
   ]
  },
  {
   "attachments": {},
   "cell_type": "markdown",
   "metadata": {},
   "source": [
    "#### Save and load"
   ]
  },
  {
   "cell_type": "code",
   "execution_count": 27,
   "metadata": {},
   "outputs": [
    {
     "data": {
      "text/plain": [
       "array([[[  1,   2,   3],\n",
       "        [  4,   5,   6],\n",
       "        [  7,   8,  -9]],\n",
       "\n",
       "       [[ 10,  11,  12],\n",
       "        [ 13,  14,  15],\n",
       "        [ 16, -17,  18]],\n",
       "\n",
       "       [[-19,  20,  21],\n",
       "        [ 22,  23,  24],\n",
       "        [ 24,  25,  26]]])"
      ]
     },
     "execution_count": 27,
     "metadata": {},
     "output_type": "execute_result"
    }
   ],
   "source": [
    "np.save('save', array)\n",
    "b = np.load('save.npy')\n",
    "b"
   ]
  },
  {
   "attachments": {},
   "cell_type": "markdown",
   "metadata": {},
   "source": [
    "#### savetxt and loadtxt"
   ]
  },
  {
   "cell_type": "code",
   "execution_count": 28,
   "metadata": {},
   "outputs": [
    {
     "data": {
      "text/plain": [
       "array([  1.,   2.,   3.,   4.,   5.,   6.,   7.,   8.,  -9.,  10.,  11.,\n",
       "        12.,  13.,  14.,  15.,  16., -17.,  18., -19.,  20.,  21.,  22.,\n",
       "        23.,  24.,  24.,  25.,  26.])"
      ]
     },
     "execution_count": 28,
     "metadata": {},
     "output_type": "execute_result"
    }
   ],
   "source": [
    "np.savetxt('savetxt.txt', array.ravel())\n",
    "b = np.loadtxt('savetxt.txt')\n",
    "b"
   ]
  }
 ],
 "metadata": {
  "kernelspec": {
   "display_name": "Python 3",
   "language": "python",
   "name": "python3"
  },
  "language_info": {
   "codemirror_mode": {
    "name": "ipython",
    "version": 3
   },
   "file_extension": ".py",
   "mimetype": "text/x-python",
   "name": "python",
   "nbconvert_exporter": "python",
   "pygments_lexer": "ipython3",
   "version": "3.11.2"
  },
  "orig_nbformat": 4
 },
 "nbformat": 4,
 "nbformat_minor": 2
}
