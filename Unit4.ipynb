{
 "cells": [
  {
   "cell_type": "markdown",
   "id": "c61641db",
   "metadata": {},
   "source": [
    "# Lab 4: MM:10\n",
    "### 1. Create a nd array of size 3 x 3 x 3 and perform subtraction operation as per x axis, y axis and z axis.\n",
    "### 2. Demonstrate the following on the above created nd array:\n",
    "#### 1. basic indexing\n",
    "#### 2. slicing\n",
    "#### 3. boolean indexing\n",
    "#### 4. fancy indexing\n",
    "### 3. Demonstrate the use of the following universal functions:\n",
    "#### 1. Trigonometric functions (atleast 2)\n",
    "#### 2. Statistical Functions (atleast 2)\n",
    "#### 3. Bit-twiddling Functions (atleast 2)\n",
    "### 4. Download the dataset of your choice and demonstrate the following operations on it:\n",
    "#### 1. Read the dataset in the form of array\n",
    "#### 2. Perform any 5 nd array operations on the above dataset (for ex. reshaping, ravel, transpose, vstack, concatenate etc.)\n",
    "### 5. Perform file input and output operations on nd array using save, load, savetxt and loadtxt methods."
   ]
  }
 ],
 "metadata": {
  "kernelspec": {
   "display_name": "Python 3 (ipykernel)",
   "language": "python",
   "name": "python3"
  },
  "language_info": {
   "codemirror_mode": {
    "name": "ipython",
    "version": 3
   },
   "file_extension": ".py",
   "mimetype": "text/x-python",
   "name": "python",
   "nbconvert_exporter": "python",
   "pygments_lexer": "ipython3",
   "version": "3.9.13"
  }
 },
 "nbformat": 4,
 "nbformat_minor": 5
}
